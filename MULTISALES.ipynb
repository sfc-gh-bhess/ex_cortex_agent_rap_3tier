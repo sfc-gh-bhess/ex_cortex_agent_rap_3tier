{
 "metadata": {
  "kernelspec": {
   "display_name": "Streamlit Notebook",
   "name": "streamlit"
  },
  "lastEditStatus": {
   "notebookId": "6px2cxkv5gg32vrcekv6",
   "authorId": "432459825768",
   "authorName": "BMHESS",
   "authorEmail": "brian.hess@snowflake.com",
   "sessionId": "8d7fb592-29d4-49b9-94b8-e62a06ee6918",
   "lastEditTime": 1760121606616
  }
 },
 "nbformat_minor": 5,
 "nbformat": 4,
 "cells": [
  {
   "cell_type": "markdown",
   "id": "ffe7229f-b7a6-49e1-a6da-ed2545c4a01d",
   "metadata": {
    "name": "Intro",
    "collapsed": false
   },
   "source": "# Cortex Agents for Multiple Tenants/Users\nThere are a number of use cases where we want to use the Cortex AI features of Snowflake but only give certain\nusers access to certain data in the database. \n\nFor example, we may have sales data for our company, and we want\nto create an application that lets our salespeople ask questions in a \"talk-to-your-data\" sort of fashion, but\nwe only want a salesperson to get access to the data about their customers and not other customers. Another\nexample is that we have an application that manages data for many tenants, and we want to allow a tenant to \nask questions of their data, but not get any access to other tenants' data.\n\nWe can accomplish this using Snowflake, leveraging the Cortex Agents feature for AI and the Row Access Policy\n(RAP) feature to restrict the data for the user.\n\nThis Notebook will walk you through the setup for a 3-tier web app that uses Cortex Agents to talk to your data\nand manages sales data for multiple tenants. Users will log in to the application and only see results related\nto the tenant they are associated with. The use case is managing restaurant sales data (how much each menu item\nis selling at each restaurant within each chain). \n\nThe high-level steps in the Notebook are:\n* set up a warehouse, database, and schema for this example\n* create a role for the example and grant it the necessary privileges to create the objects it needs\n* create a set of menu items (using Cortex to generate descriptions)\n* create a Cortex Search service for the menu items\n* create daily sales totals for each store in each restaurant\n* create a Programmatic Access Token (PAT) to allow our application to talk to Snowflake APIs\n* create a Row Access Policy based on the value in a session variable and apply it to the items and orders tables\n* print the environment variables that you will need to run the companion web app\n\n## Example Use Case\nThe example that we consider is a website that helps restaurant franchise owners analyze their sales\ndata. Franchises upload their menu items and descriptions to the service (we'll store that in the\n`ITEMS` table). Additionally, franchises send their sales data to this service, and that data is summarized\nfor daily sales (we'll store that in the `ORDERS` table). Each franchise has multiple stores, and the sales data is captured per store and per item. Just for illustration, the data in this demo contains sales data just for\nthe calendar year 2024.\n\nThe website allows for a franchise owner to log in and ask natuarl language questions about their menu\nand sales data. The franchise owner should only be able to see the data about their franchise. For exmaple,\nAlice, owner of Alices Restaurant, can analyze data about all of the Alices Restaurant stores, and cannot\nask questions about any other franchise, such as Bobs Place or Charlies Diner.\n\nSome of the types of questions that an owner might ask are:\n* _Which chicken sandwich sold the most in May 2024?_\n* _Which menu items that are not chicken sandwiches sold the least in April 2024?_\n* _Did we sell more sandwiches or burgers in June 2024?_\n* _Which menu item sold the most for all of 2024?_"
  },
  {
   "cell_type": "markdown",
   "id": "f5ae8174-b3b4-4de2-8c55-24d7da0162d1",
   "metadata": {
    "name": "Setup1_md",
    "collapsed": false
   },
   "source": "## 1. Setup\nFirst, we will create the `WAREHOUSE` that we can use for this project, as well as a \n`DATABASE` and `SCHEMA` to host the objects.\n"
  },
  {
   "cell_type": "code",
   "id": "3775908f-ca36-4846-8f38-5adca39217f2",
   "metadata": {
    "language": "sql",
    "name": "Setup1"
   },
   "source": "USE ROLE accountadmin;\nCREATE WAREHOUSE IF NOT EXISTS multisales_wh WITH WAREHOUSE_SIZE='XSMALL';\nCREATE DATABASE IF NOT EXISTS multisales;\nCREATE SCHEMA IF NOT EXISTS multisales.data;\n",
   "execution_count": null,
   "outputs": []
  },
  {
   "cell_type": "markdown",
   "id": "74b07e17-3c88-46a6-b3a2-a92359b7cef4",
   "metadata": {
    "name": "Setup2_md",
    "collapsed": false
   },
   "source": "Next, we create the `MULTISALES_RL` role that will own the objects and grant it the necessary permissions."
  },
  {
   "cell_type": "code",
   "id": "8d50cbf4-0c8d-4950-86cb-114990437ac9",
   "metadata": {
    "language": "sql",
    "name": "Setup2"
   },
   "source": "USE ROLE accountadmin;\nCREATE ROLE IF NOT EXISTS multisales_rl;\nGRANT ROLE multisales_rl TO ROLE accountadmin;\n\nGRANT USAGE ON WAREHOUSE multisales_wh TO ROLE multisales_rl;\nGRANT ALL ON DATABASE multisales TO ROLE multisales_rl;\nGRANT ALL ON SCHEMA multisales.data TO ROLE multisales_rl;\nGRANT DATABASE ROLE snowflake.cortex_user TO ROLE multisales_rl;",
   "execution_count": null,
   "outputs": []
  },
  {
   "cell_type": "markdown",
   "id": "514e8cc4-e4aa-4ee0-a28c-28f940eeed21",
   "metadata": {
    "name": "Data_md",
    "collapsed": false
   },
   "source": "## 2. Data\nNext, we create the data for our example.\n\n### Items\nNow, we create the menu items for our restaurants. There are 3 restaurant chains:\n* Alices Restaurant\n* Bobs Place\n* Charlies Diner\n\nThey sell a variety of sandwiches, burgers, pasta, and tacos. We will use Cortex to generate the descriptions of \nthe menu items based on their item names."
  },
  {
   "cell_type": "code",
   "id": "ccd70fd2-aebe-45d8-b47d-0da2fd19fbf5",
   "metadata": {
    "language": "sql",
    "name": "Items",
    "codeCollapsed": false
   },
   "outputs": [],
   "source": "USE ROLE multisales_rl;\nUSE SCHEMA multisales.data;\nCREATE OR REPLACE\nTABLE items AS\n    WITH items AS (\n        SELECT 101::INT AS item_id, 'Alices Restaurant' AS tenant, 'Chicken Salad Sandwich' AS item\n        UNION ALL\n        SELECT 102::INT AS item_id, 'Alices Restaurant' AS tenant, 'Chicken Caesar Wrap' AS item\n        UNION ALL\n        SELECT 103::INT AS item_id, 'Alices Restaurant' AS tenant, 'Grilled Chicken Sandwich' AS item\n        UNION ALL\n        SELECT 104::INT AS item_id, 'Alices Restaurant' AS tenant, 'Cheeseburger' AS item\n        UNION ALL\n        SELECT 105::INT AS item_id, 'Alices Restaurant' AS tenant, 'Bacon Double Cheeseberger' AS item\n        UNION ALL\n        SELECT 106::INT AS item_id, 'Alices Restaurant' AS tenant, 'Swiss Bleu Burger' AS item\n        UNION ALL\n        SELECT 107::INT AS item_id, 'Alices Restaurant' AS tenant, 'Spaghetti Bolognese' AS item\n        UNION ALL\n        SELECT 108::INT AS item_id, 'Alices Restaurant' AS tenant, 'Pesto Totellini' AS item\n        UNION ALL\n    \n        SELECT 201::INT AS item_id, 'Bobs Place' AS tenant, 'Fried Chicken Sandwich' AS item\n        UNION ALL\n        SELECT 202::INT AS item_id, 'Bobs Place' AS tenant, 'Chicken Bacon Ranch Sandwich' AS item\n        UNION ALL\n        SELECT 203::INT AS item_id, 'Bobs Place' AS tenant, 'Hamburger' AS item\n        UNION ALL\n        SELECT 204::INT AS item_id, 'Bobs Place' AS tenant, 'Cheddar Burger' AS item\n        UNION ALL\n        SELECT 205::INT AS item_id, 'Bobs Place' AS tenant, 'Swiss Burger' AS item\n        UNION ALL\n        SELECT 206::INT AS item_id, 'Bobs Place' AS tenant, 'Chicken Tacos' AS item\n        UNION ALL\n        SELECT 207::INT AS item_id, 'Bobs Place' AS tenant, 'Beef Tacos' AS item\n        UNION ALL\n        SELECT 208::INT AS item_id, 'Bobs Place' AS tenant, 'Veggie Tacos' AS item\n        UNION ALL\n    \n        SELECT 301::INT AS item_id, 'Charlies Diner' AS tenant, 'Smoked Chicken Sandwich' AS item\n        UNION ALL\n        SELECT 302::INT AS item_id, 'Charlies Diner' AS tenant, 'Fried Korean Chicken Sandwich' AS item\n        UNION ALL\n        SELECT 303::INT AS item_id, 'Charlies Diner' AS tenant, 'Greek Chicken Wrap' AS item\n        UNION ALL\n        SELECT 304::INT AS item_id, 'Charlies Diner' AS tenant, 'Fried Fish Sandwich' AS item\n        UNION ALL\n        SELECT 305::INT AS item_id, 'Charlies Diner' AS tenant, 'Tuna Salad Sandwich' AS item\n    )\n    SELECT \n        item_id,\n        tenant,\n        item,\n        AI_COMPLETE('claude-4-sonnet', 'You are writing menu descriptions for the following menu item: ' || item || '. The description should be no longer than 50 words. The description should entice customers to order the item')::VARCHAR AS item_description\n    FROM items;\n\nALTER TABLE items SET CHANGE_TRACKING = TRUE;",
   "execution_count": null
  },
  {
   "cell_type": "markdown",
   "id": "e15d130e-2077-457d-82bd-137240d018d6",
   "metadata": {
    "name": "Orders_md",
    "collapsed": false
   },
   "source": "### Orders\nNext, we create the daily sales totals for each menu item at each store for each restaurant franchise."
  },
  {
   "cell_type": "code",
   "id": "a86c0906-2c72-4e12-b091-c195a0743288",
   "metadata": {
    "language": "sql",
    "name": "Orders"
   },
   "outputs": [],
   "source": "USE ROLE multisales_rl;\nUSE SCHEMA multisales.data;\nCREATE OR REPLACE TABLE orders AS \n    WITH days AS (\n        SELECT \n            DATEADD(day, seq4(), '2024-01-01'::DATE) AS date\n        FROM TABLE (GENERATOR(ROWCOUNT => 365))\n    )\n    , tenant_popularity AS (\n        SELECT 'Alices Restaurant' AS tenant, 500::INT AS popularity\n        UNION ALL\n        SELECT 'Bobs Place' AS tenant, 100::INT AS popularity\n        UNION ALL\n        SELECT 'Charlies Diner' AS tenant, 1000::INT AS popularity\n    )\n    , item_popularity AS (\n        SELECT \n            i.item_id,\n            i.item,\n            tp.tenant,\n            tp.popularity + NORMAL(0, 100, RANDOM(123)) AS popularity\n        FROM items AS i\n        JOIN tenant_popularity AS tp\n          ON i.tenant = tp.tenant\n    )\n    , stores AS (\n        SELECT 1001+seq4() AS store_id, 'Alices Restaurant' AS tenant\n        FROM TABLE(GENERATOR(ROWCOUNT => 4))\n        UNION ALL\n        SELECT 2001+seq4() AS store_id, 'Bobs Place' AS tenant\n        FROM TABLE(GENERATOR(ROWCOUNT => 3))\n        UNION ALL\n        SELECT 3001+seq4() AS store_id, 'Charlies Diner' AS tenant\n        FROM TABLE(GENERATOR(ROWCOUNT => 5))\n    )\n    , orders AS (\n        SELECT \n            d.date AS date,\n            s.store_id,\n            s.tenant,\n            ip.item_id AS item_id,\n            ip.item AS item,\n            FLOOR(ip.popularity + NORMAL(0,100, RANDOM(234))) AS quantity\n        FROM stores AS s\n        JOIN item_popularity AS ip\n          ON s.tenant = ip.tenant\n        CROSS JOIN days AS d\n    )\n    SELECT\n        * \n    FROM orders\n;",
   "execution_count": null
  },
  {
   "cell_type": "markdown",
   "id": "eb3e1f5c-cba2-4ffb-bb7e-2fea135f63f3",
   "metadata": {
    "name": "CortexSearch_md",
    "collapsed": false
   },
   "source": "### Cortex Search Services\nWe want to leveage Cortex Search to help Cortex Agents understand our questions and enable better\naccuracy for answers. We will create two Cortex Search Services on the `ITEMS` table: one on the `ITEM` column and one \non the `ITEM_DESCRIPTION` column."
  },
  {
   "cell_type": "code",
   "id": "809f94e8-8055-4f68-8b55-556d43218a88",
   "metadata": {
    "language": "sql",
    "name": "CortexSearch"
   },
   "outputs": [],
   "source": "USE ROLE multisales_rl;\nUSE SCHEMA multisales.data;\n\nCREATE OR REPLACE CORTEX SEARCH SERVICE items_search\n    ON item\n    ATTRIBUTES item_id, tenant, item_description\n    WAREHOUSE = multisales_wh\n    TARGET_LAG = '1 minute'\n    AS (\n        SELECT\n            item_id,\n            tenant,\n            item,\n            item_description\n        FROM items\n    )\n;\n\nCREATE OR REPLACE CORTEX SEARCH SERVICE item_description_search\n    ON item_description\n    ATTRIBUTES item_id, tenant, item\n    WAREHOUSE = multisales_wh\n    TARGET_LAG = '1 minute'\n    AS (\n        SELECT\n            item_id,\n            tenant,\n            item,\n            item_description\n        FROM items\n    )\n;\n",
   "execution_count": null
  },
  {
   "cell_type": "markdown",
   "id": "f3234f05-efe1-42a0-982d-b9ef9397a785",
   "metadata": {
    "name": "SemanticView_md",
    "collapsed": false
   },
   "source": "We will need a semantic model for this project. We could use either a semantic model in a file in `STAGE`, \nor a `SEMANTIC VIEW`. For this exmaple, let's use a `SEMANTIC VIEW`."
  },
  {
   "cell_type": "code",
   "id": "21c42d02-6ece-42a7-9a83-57fff58836e7",
   "metadata": {
    "language": "sql",
    "name": "SemanticView"
   },
   "outputs": [],
   "source": "USE ROLE multisales_rl;\nUSE SCHEMA multisales.data;\n\nCREATE OR REPLACE SEMANTIC VIEW multisales_sv\n\ttables (\n\t\tITEMS primary key (ITEM_ID) comment='This table stores information about items across multiple tenants, with each item having a unique identifier, a descriptive name, and a detailed description.',\n\t\tORDERS comment='This table stores information about orders placed across different stores and tenants, including the date of the order, the store ID, the tenant name, the item ID and name, and the quantity of the item ordered.'\n\t)\n\trelationships (\n\t\tORDERS_TO_ITEMS as ORDERS(ITEM_ID) references ITEMS(ITEM_ID)\n\t)\n\tfacts (\n\t\tORDERS.QUANTITY as QUANTITY comment='The quantity of items ordered.'\n\t)\n\tdimensions (\n\t\tITEMS.ITEM as ITEM comment='This column represents the name of the menu item, which is a dimension used to categorize and analyze sales data.' with cortex search service ITEMS_SEARCH,\n\t\tITEMS.ITEM_DESCRIPTION as ITEM_DESCRIPTION comment='A detailed description of each menu item, including ingredients, preparation methods, and flavor profiles, designed to entice customers and provide a clear understanding of the dish.',\n\t\tITEMS.ITEM_ID as ITEM_ID comment='Unique identifier for each item in the inventory.',\n\t\tITEMS.TENANT as TENANT comment='The name of the tenant or business that occupies a specific location or space.',\n\t\tORDERS.DATE as DATE comment='Date the order was placed.',\n\t\tORDERS.ITEM as ITEM comment='The type of menu item ordered by the customer.',\n\t\tORDERS.ITEM_ID as ITEM_ID comment='Unique identifier for the item being ordered.',\n\t\tORDERS.STORE_ID as STORE_ID comment='Unique identifier for the store where the order was placed.',\n\t\tORDERS.TENANT as TENANT comment='The name of the tenant or customer who placed the order.'\n\t)\n\tcomment='This semantic model contains menu items and daily sales for multiple restaurant chains and stores for business analysis.'\n\twith extension (CA='{\"tables\":[{\"name\":\"ITEMS\",\"dimensions\":[{\"name\":\"ITEM\",\"sample_values\":[\"Chicken Salad Sandwich\",\"Chicken Caesar Wrap\",\"Veggie Tacos\"]},{\"name\":\"ITEM_DESCRIPTION\",\"sample_values\":[\"Tender, hand-pulled chicken mixed with crisp celery, fresh herbs, and creamy mayo, nestled between slices of artisan bread. This classic comfort sandwich delivers the perfect balance of flavors and textures, making it an irresistible choice for lunch that will leave you completely satisfied.\",\"Juicy, perfectly seasoned chicken breast grilled to golden perfection and nestled on a toasted brioche bun with crisp lettuce, ripe tomato, and creamy mayo. Each bite delivers tender, smoky flavors that will satisfy your cravings. A classic done right – simple, fresh, and absolutely delicious.\",\"**Cheddar Burger**\\\\n\\\\nJuicy, flame-grilled beef patty topped with rich, melted aged cheddar cheese on a toasted brioche bun. Served with crisp lettuce, ripe tomato, and red onion. This classic comfort food delivers bold, satisfying flavors in every bite. Pure indulgence for cheese lovers craving the perfect burger experience.\"]},{\"name\":\"ITEM_ID\",\"sample_values\":[\"101\",\"102\",\"103\"]},{\"name\":\"TENANT\",\"sample_values\":[\"Bobs Place\",\"Charlies Diner\",\"Alices Restaurant\"]}]},{\"name\":\"ORDERS\",\"dimensions\":[{\"name\":\"ITEM\",\"sample_values\":[\"Chicken Salad Sandwich\",\"Chicken Caesar Wrap\",\"Grilled Chicken Sandwich\"]},{\"name\":\"ITEM_ID\",\"sample_values\":[\"101\",\"102\",\"103\"]},{\"name\":\"STORE_ID\",\"sample_values\":[\"1003\",\"1001\",\"3001\"]},{\"name\":\"TENANT\",\"sample_values\":[\"Alices Restaurant\"]}],\"facts\":[{\"name\":\"QUANTITY\",\"sample_values\":[\"449\",\"317\",\"588\"]}],\"time_dimensions\":[{\"name\":\"DATE\",\"sample_values\":[\"2024-01-01\",\"2024-01-03\",\"2024-01-02\"]}]}],\"relationships\":[{\"name\":\"orders_to_items\"}],\"module_custom_instructions\":{}}');",
   "execution_count": null
  },
  {
   "cell_type": "markdown",
   "id": "74b2789a-fbc7-4adb-895d-0653783b038e",
   "metadata": {
    "name": "RAP1_md",
    "collapsed": false
   },
   "source": "## 3. Row Access Policy\nNow we can turn our attention to protecting the data so that a given tenant can only access their own data.\n\nWe will use an entitlement table to map which users (`Alice`, `Bob`, and `Charlie`) can access data for which\ntenant (`Alices Restaurant`, `Bobs Place`, `Charlies Diner`). For now, each user can access their own \nrestaurant's tenant. If, say, Alice hires a new employee, say Arlo, then we just need to add a row for \nArlo allowing access to Alices Restaurant's data. It is quite simple and efficient to update the user access\nby simply updating the data in the entitlement table.\n\nNext, we will use a simple function to create an array of tenants that a given user has access to. This is \nessentially gathering all rows in the entitlement table for a given `USERID` and turning that into an\n`ARRAY`. We will create this function as a _memoizable_ function so that it can efficiently be calculated\nonce and the result reused without having to recalculate every time.\n\nLastly, we create the actual Row Access Policy which will compare the value of the `REP` input to the\narray of allowed tenants. We only use that logic if the current role is the `MULTISALES_RL`. This allows\nus to access all of the data (assuming we have been granted `SELECT` permission on the table) if we access\nit with a different role (e.g., `ACCOUNTADMIN`)."
  },
  {
   "cell_type": "code",
   "id": "38afcc0f-fc9d-4348-9770-2545dd757577",
   "metadata": {
    "language": "sql",
    "name": "RAP1"
   },
   "outputs": [],
   "source": "USE ROLE multisales_rl;\nUSE SCHEMA multisales.data;\n\nCREATE OR REPLACE TABLE orders_entitlement(userid VARCHAR, tenant VARCHAR);\nINSERT INTO orders_entitlement(userid, tenant) VALUES\n    ('Alice', 'Alices Restaurant'),\n    ('Bob', 'Bobs Place'),\n    ('Charlie', 'Charlies Diner')\n;\n\nCREATE OR REPLACE FUNCTION tenants(who STRING)\n    RETURNS ARRAY\n    MEMOIZABLE\n    AS 'SELECT ARRAY_AGG(tenant) FROM orders_entitlement WHERE userid = who'\n;\n\nCREATE OR REPLACE ROW ACCESS POLICY rap_tenant\n    AS (rep VARCHAR)\n    RETURNS BOOLEAN ->\n        CASE \n            WHEN 'MULTISALES_RL' = CURRENT_ROLE() THEN  ARRAY_CONTAINS(rep::VARIANT, tenants(GETVARIABLE('TENANT')))\n            ELSE TRUE\n        END\n;\n ",
   "execution_count": null
  },
  {
   "cell_type": "markdown",
   "id": "9df4ae34-26be-42f4-9b6c-a14eb2172fa2",
   "metadata": {
    "name": "RAP2_md",
    "collapsed": false
   },
   "source": "Now that we have created the Row Access Policy, we can apply that policy to both the `ITEMS` and `ORDERS` table. \nWe will apply the policy to the `TENANT` column in both tables."
  },
  {
   "cell_type": "code",
   "id": "86cf07d7-e07c-4d99-a3fa-f1f0ed2b710b",
   "metadata": {
    "language": "sql",
    "name": "RAP2"
   },
   "outputs": [],
   "source": "USE ROLE multisales_rl;\nUSE SCHEMA multisales.data;\n\nALTER TABLE orders DROP ALL ROW ACCESS POLICIES; -- Just to make sure there aren't any others\nALTER TABLE orders ADD ROW ACCESS POLICY rap_tenant ON (tenant);\n\nALTER TABLE items DROP ALL ROW ACCESS POLICIES; -- Just to make sure there aren't any others\nALTER TABLE items ADD ROW ACCESS POLICY rap_tenant ON (tenant);",
   "execution_count": null
  },
  {
   "cell_type": "markdown",
   "id": "d1ad4a99-5caf-4b76-91a5-21e96d4d5f77",
   "metadata": {
    "name": "PAT_md",
    "collapsed": false
   },
   "source": "## 4. Programmatic Access Token\nIn order to enable our application to call Snowflake APIs (both the Cortex Agent API and the SQL API) we will\nuse a Programmatic Access Token (PAT). We can restrict this PAT to using a particular role, so we will set that\nrestriction to the `MULTISALES_RL` role."
  },
  {
   "cell_type": "code",
   "id": "75681b23-4624-4dda-9f05-27d2592ed6b4",
   "metadata": {
    "language": "sql",
    "name": "PAT"
   },
   "outputs": [],
   "source": "ALTER USER ADD PROGRAMMATIC ACCESS TOKEN multisales_pat ROLE_RESTRICTION = 'MULTISALES_RL' DAYS_TO_EXPIRY = 365;",
   "execution_count": null
  },
  {
   "cell_type": "markdown",
   "id": "54aa4f45-24d1-4b45-9a47-9e4902282af2",
   "metadata": {
    "name": "App_md",
    "collapsed": false
   },
   "source": "## 5. Companion App\nThere is a companion 3-tier web app with this example. It has a frontend and a backend, both implemented\nusing Node.js. You can follow the README to see how to set it up. You will need to set some environment\nvariables in the terminal when you start both the frontend and the backend. \n\nRun the following cell to get the environment variables to use. Copy the output for the backend to the \n`/backend/.env` file."
  },
  {
   "cell_type": "code",
   "id": "fd36e309-7282-417c-996e-d68c98caf5a2",
   "metadata": {
    "language": "python",
    "name": "App_py",
    "collapsed": false,
    "codeCollapsed": true
   },
   "outputs": [],
   "source": "import streamlit as st\nfrom snowflake.snowpark.context import get_active_session\nfrom snowflake.connector import DictCursor\n\n# Get the PAT from the `PAT` cell\npat = PAT.to_pandas().iloc[0].to_dict()['token_secret']\n\n# Get the account locator via SQL\nsession = get_active_session()\ncur = session.connection.cursor(DictCursor)\nd = cur.execute(\"SELECT current_account() AS account\").fetchall()\naccount = d[0][\"ACCOUNT\"]\n\nst.markdown(f\"\"\"\n### Backend\nCreate (if needed) the file `/backend/.env` (or `/backend_py/.env` if you are using the Python backend)\nand copy the following contents to it:\n```bash\n# Backend Server Configuration\nBACKEND_PORT=4000\n\n# Snowflake Connection\nSNOWFLAKE_URL=\"https://{account}.snowflakecomputing.com\"\nSNOWFLAKE_PAT=\"{pat}\"\nSNOWFLAKE_WAREHOUSE=\"MULTISALES_WH\"\n```\n\nCreate (if needed) the file `/backend/agent_model.yaml` (or `/backend_py/agent_model.yaml` if you are using\nthe Python backend) and copy the following contents to it:\n```yaml\nmodel: claude-4-sonnet\nexperimental:\n  EnableRelatedQueries: true\ntools:\n  - tool_spec:\n      type: cortex_search\n      name: search1\n  - tool_spec:\n      type: cortex_analyst_text_to_sql\n      name: analyst1\n  - tool_spec:\n      type: data_to_chart\n      name: data_to_chart\n  - tool_spec:\n      type: sql_exec\n      name: sql_exec\ntool_resources:\n  analyst1:\n    semantic_view: \"MULTISALES.DATA.MULTISALES_SV\"\n  search1:\n    name: \"MULTISALES.DATA.ITEMS_SEARCH\"\n    max_results: 10\n```\n\"\"\")\n",
   "execution_count": null
  }
 ]
}